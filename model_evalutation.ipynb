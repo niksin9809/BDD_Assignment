{
 "cells": [
  {
   "cell_type": "code",
   "execution_count": null,
   "id": "06cbd78f",
   "metadata": {},
   "outputs": [],
   "source": [
    "from ultralytics import YOLO\n",
    "import os\n",
    "import json\n",
    "import pandas as pd\n",
    "from utils import *\n",
    "from inference_utils import *\n",
    "import matplotlib.pyplot as plt\n",
    "import seaborn as sns\n",
    "import cv2\n",
    "from pathlib import Path"
   ]
  },
  {
   "cell_type": "code",
   "execution_count": null,
   "id": "b86268fa",
   "metadata": {},
   "outputs": [],
   "source": [
    "# Load the YOLO model\n",
    "model = YOLO('yolov8n.pt')\n",
    "\n",
    "# Load annotations\n",
    "with open('path_to_annotations.json') as f:\n",
    "    annots = json.load(f)\n",
    "\n",
    "# Define base path to images\n",
    "base_path = 'path_to_images_directory'\n",
    "\n",
    "# Evaluate model on dataset\n",
    "eval_df = evaluate_model_on_dataset(model, annots, base_path, occ_trunc=False)\n",
    "\n",
    "# Calculate mAP\n",
    "mAP = calculate_map(eval_df)\n",
    "print(f'mean Average Precision (mAP): {mAP}')"
   ]
  }
 ],
 "metadata": {
  "language_info": {
   "name": "python"
  }
 },
 "nbformat": 4,
 "nbformat_minor": 5
}
